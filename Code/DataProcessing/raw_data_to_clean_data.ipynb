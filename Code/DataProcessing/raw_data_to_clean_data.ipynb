{
 "cells": [
  {
   "cell_type": "markdown",
   "metadata": {},
   "source": [
    "# Process Raw datas into a single text file data"
   ]
  },
  {
   "cell_type": "code",
   "execution_count": 1,
   "metadata": {},
   "outputs": [],
   "source": [
    "import os\n",
    "os.chdir('../../')"
   ]
  },
  {
   "cell_type": "code",
   "execution_count": 2,
   "metadata": {},
   "outputs": [],
   "source": [
    "import re\n",
    "import hazm\n",
    "from bs4 import BeautifulSoup\n",
    "import pandas as pd"
   ]
  },
  {
   "cell_type": "code",
   "execution_count": 3,
   "metadata": {},
   "outputs": [],
   "source": [
    "all_names = []"
   ]
  },
  {
   "cell_type": "code",
   "execution_count": 4,
   "metadata": {},
   "outputs": [],
   "source": [
    "class Normalizer:\n",
    "    def __init__(self) -> None:\n",
    "        self.hazm_normalizer = hazm.Normalizer()\n",
    "\n",
    "    def normalize(self, text):\n",
    "        text = re.sub(r'\\([^)]*\\)', '', text) # remove whatever inside parenthesis\n",
    "        text = self.hazm_normalizer.normalize(text)\n",
    "        text = text.replace('\\u200c', ' ')\n",
    "        text = text.replace('\"', '')\n",
    "        text = text.replace(\"'\", '')\n",
    "        text = re.sub('[0-9a-zA-Z]+', '', text)\n",
    "        \n",
    "        if self.is_valid(text):\n",
    "            return text\n",
    "        else:\n",
    "            return None\n",
    "\n",
    "    def is_valid(self, text):\n",
    "        if len(text) <= 2:\n",
    "            return False\n",
    "        \n",
    "        if len(text) > 10:\n",
    "            return False\n",
    "        \n",
    "        return True"
   ]
  },
  {
   "cell_type": "code",
   "execution_count": 5,
   "metadata": {},
   "outputs": [],
   "source": [
    "normalizer = Normalizer()"
   ]
  },
  {
   "cell_type": "code",
   "execution_count": 6,
   "metadata": {},
   "outputs": [
    {
     "name": "stdout",
     "output_type": "stream",
     "text": [
      "714\n"
     ]
    }
   ],
   "source": [
    "file_name = './Data/Raw/01.txt'\n",
    "name_list = []\n",
    "\n",
    "\n",
    "with open(file_name, 'r') as f:\n",
    "    lines = f.readlines()\n",
    "    for line in lines:\n",
    "        name = line.split(\":\")[0]\n",
    "        if normalizer.is_valid(name):\n",
    "            normalized_name = normalizer.normalize(name)\n",
    "            if normalized_name is not None:\n",
    "                name_list.append(normalized_name)\n",
    "\n",
    "all_names += name_list\n",
    "print(len(name_list))"
   ]
  },
  {
   "cell_type": "code",
   "execution_count": 7,
   "metadata": {},
   "outputs": [
    {
     "name": "stdout",
     "output_type": "stream",
     "text": [
      "977\n"
     ]
    }
   ],
   "source": [
    "file_name = './Data/Raw/02.txt'\n",
    "name_list = []\n",
    "\n",
    "\n",
    "with open(file_name, 'r') as f:\n",
    "    lines = f.readlines()\n",
    "    for line in lines:\n",
    "        name = line.split(\":\")[0]\n",
    "        if normalizer.is_valid(name):\n",
    "            normalized_name = normalizer.normalize(name)\n",
    "            if normalized_name is not None:\n",
    "                name_list.append(normalized_name)\n",
    "\n",
    "all_names += name_list\n",
    "print(len(name_list))"
   ]
  },
  {
   "cell_type": "code",
   "execution_count": 8,
   "metadata": {},
   "outputs": [
    {
     "name": "stdout",
     "output_type": "stream",
     "text": [
      "712\n"
     ]
    }
   ],
   "source": [
    "file_name = './Data/Raw/03.html'\n",
    "name_list = []\n",
    "\n",
    "with open(file_name, 'r') as f:\n",
    "    soup = BeautifulSoup(f, 'html.parser')\n",
    "    tr_list = soup.findAll('tr')\n",
    "    \n",
    "    for tr in tr_list:\n",
    "        td_list = tr.findAll('td')\n",
    "        if not td_list[0].find('h3'):\n",
    "            name = td_list[0].get_text()\n",
    "            if normalizer.is_valid(name):\n",
    "                normalized_name = normalizer.normalize(name)\n",
    "                if normalized_name is not None:\n",
    "                    name_list.append(normalized_name)\n",
    "\n",
    "all_names += name_list\n",
    "print(len(name_list))"
   ]
  },
  {
   "cell_type": "code",
   "execution_count": 9,
   "metadata": {},
   "outputs": [
    {
     "name": "stdout",
     "output_type": "stream",
     "text": [
      "2801\n"
     ]
    }
   ],
   "source": [
    "file_name = './Data/Raw/04.html'\n",
    "name_list = []\n",
    "\n",
    "with open(file_name, 'r') as f:\n",
    "    soup = BeautifulSoup(f, 'html.parser')\n",
    "    h4_list = soup.findAll(\"h4\", class_='content_h4')\n",
    "    for h4 in h4_list:\n",
    "        name = h4.get_text()\n",
    "        if normalizer.is_valid(name):\n",
    "            normalized_name = normalizer.normalize(name)\n",
    "            if normalized_name is not None:\n",
    "                name_list.append(normalized_name)\n",
    "\n",
    "all_names += name_list\n",
    "print(len(name_list))"
   ]
  },
  {
   "cell_type": "code",
   "execution_count": 10,
   "metadata": {},
   "outputs": [
    {
     "name": "stdout",
     "output_type": "stream",
     "text": [
      "29\n"
     ]
    }
   ],
   "source": [
    "file_name = './Data/Raw/05.html'\n",
    "name_list = []\n",
    "\n",
    "with open(file_name, 'r') as f:\n",
    "    soup = BeautifulSoup(f, 'html.parser')\n",
    "    h4_list = soup.findAll(\"cite\", class_='fn')\n",
    "    for h4 in h4_list:\n",
    "        name = h4.get_text()\n",
    "        if normalizer.is_valid(name):\n",
    "            normalized_name = normalizer.normalize(name)\n",
    "            if normalized_name is not None:\n",
    "                name_list.append(normalized_name)\n",
    "\n",
    "all_names += name_list\n",
    "print(len(name_list))"
   ]
  },
  {
   "cell_type": "code",
   "execution_count": 11,
   "metadata": {},
   "outputs": [
    {
     "name": "stdout",
     "output_type": "stream",
     "text": [
      "476\n"
     ]
    }
   ],
   "source": [
    "file_name = './Data/Raw/06.html'\n",
    "name_list = []\n",
    "\n",
    "with open(file_name, 'r') as f:\n",
    "    soup = BeautifulSoup(f, 'html.parser')\n",
    "    tr_list = soup.findAll('tr')\n",
    "    for tr in tr_list:\n",
    "        td_list = tr.findAll('td')\n",
    "        name = td_list[0].get_text()\n",
    "        normalized_name = normalizer.normalize(name)\n",
    "        if normalized_name is not None:\n",
    "            name_list.append(normalized_name)\n",
    "            \n",
    "all_names += name_list\n",
    "print(len(name_list))"
   ]
  },
  {
   "cell_type": "code",
   "execution_count": 12,
   "metadata": {},
   "outputs": [
    {
     "name": "stdout",
     "output_type": "stream",
     "text": [
      "4055\n"
     ]
    }
   ],
   "source": [
    "file_name = './Data/Raw/07.csv'\n",
    "name_list = []\n",
    "\n",
    "data = pd.read_csv(file_name)\n",
    "for naem in data['first_name'].to_list():\n",
    "    normalized_name = normalizer.normalize(name)\n",
    "    if normalized_name is not None:\n",
    "        name_list.append(normalized_name)\n",
    "\n",
    "all_names += name_list\n",
    "print(len(name_list))"
   ]
  },
  {
   "cell_type": "code",
   "execution_count": 13,
   "metadata": {},
   "outputs": [
    {
     "name": "stdout",
     "output_type": "stream",
     "text": [
      "5634\n"
     ]
    }
   ],
   "source": [
    "file_name = './Data/Raw/08.txt'\n",
    "name_list = []\n",
    "\n",
    "\n",
    "with open(file_name, 'r') as f:\n",
    "    lines = f.readlines()\n",
    "    for line in lines:\n",
    "        name = line.split(',')[1]\n",
    "        if normalizer.is_valid(name):\n",
    "            normalized_name = normalizer.normalize(name)\n",
    "            if normalized_name is not None:\n",
    "                name_list.append(normalized_name)\n",
    "\n",
    "all_names += name_list\n",
    "print(len(name_list))"
   ]
  },
  {
   "cell_type": "code",
   "execution_count": 14,
   "metadata": {},
   "outputs": [
    {
     "data": {
      "text/plain": [
       "6621"
      ]
     },
     "execution_count": 14,
     "metadata": {},
     "output_type": "execute_result"
    }
   ],
   "source": [
    "all_names = list(set(all_names))\n",
    "all_names.sort()\n",
    "len(all_names)"
   ]
  },
  {
   "cell_type": "code",
   "execution_count": 15,
   "metadata": {},
   "outputs": [],
   "source": [
    "file_name = './Data/Processed/names.txt'\n",
    "\n",
    "with open(file_name, \"w\") as f:\n",
    "    for name in all_names:    \n",
    "        f.write(name)\n",
    "        f.write('\\n')"
   ]
  }
 ],
 "metadata": {
  "kernelspec": {
   "display_name": "persian_name_generator",
   "language": "python",
   "name": "python3"
  },
  "language_info": {
   "codemirror_mode": {
    "name": "ipython",
    "version": 3
   },
   "file_extension": ".py",
   "mimetype": "text/x-python",
   "name": "python",
   "nbconvert_exporter": "python",
   "pygments_lexer": "ipython3",
   "version": "3.10.4"
  },
  "orig_nbformat": 4
 },
 "nbformat": 4,
 "nbformat_minor": 2
}
